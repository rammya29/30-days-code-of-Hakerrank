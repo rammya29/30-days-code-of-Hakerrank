{
  "nbformat": 4,
  "nbformat_minor": 0,
  "metadata": {
    "colab": {
      "name": "Day-9:Recursion.ipynb",
      "provenance": [],
      "authorship_tag": "ABX9TyPBbWXKVmHrPuL4z9IFnpji",
      "include_colab_link": true
    },
    "kernelspec": {
      "name": "python3",
      "display_name": "Python 3"
    }
  },
  "cells": [
    {
      "cell_type": "markdown",
      "metadata": {
        "id": "view-in-github",
        "colab_type": "text"
      },
      "source": [
        "<a href=\"https://colab.research.google.com/github/rammya29/30-days-code-of-Hakerrank/blob/main/Day_9_Recursion.ipynb\" target=\"_parent\"><img src=\"https://colab.research.google.com/assets/colab-badge.svg\" alt=\"Open In Colab\"/></a>"
      ]
    },
    {
      "cell_type": "code",
      "metadata": {
        "id": "7K23CDbyHzVx"
      },
      "source": [
        "# Complete the factorial function below.\r\n",
        "def factorial(n):\r\n",
        "    if n==1:\r\n",
        "        fact=1\r\n",
        "    else:\r\n",
        "        fact=n*factorial(n-1)\r\n",
        "    return fact\r\n",
        "\r\n",
        "if __name__ == '__main__':\r\n",
        "    fptr = open(os.environ['OUTPUT_PATH'], 'w')\r\n",
        "\r\n",
        "    n = int(input())\r\n",
        "\r\n",
        "    result = factorial(n)\r\n",
        "\r\n",
        "    fptr.write(str(result) + '\\n')\r\n",
        "\r\n",
        "    fptr.close()\r\n"
      ],
      "execution_count": null,
      "outputs": []
    }
  ]
}