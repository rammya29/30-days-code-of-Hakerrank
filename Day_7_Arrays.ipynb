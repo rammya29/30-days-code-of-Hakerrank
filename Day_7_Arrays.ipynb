{
  "nbformat": 4,
  "nbformat_minor": 0,
  "metadata": {
    "colab": {
      "name": "Day 7:Arrays.ipynb",
      "provenance": [],
      "authorship_tag": "ABX9TyMFw/53DPORPNJxyuBG6e2w",
      "include_colab_link": true
    },
    "kernelspec": {
      "name": "python3",
      "display_name": "Python 3"
    }
  },
  "cells": [
    {
      "cell_type": "markdown",
      "metadata": {
        "id": "view-in-github",
        "colab_type": "text"
      },
      "source": [
        "<a href=\"https://colab.research.google.com/github/rammya29/30-days-code-of-Hakerrank/blob/main/Day_7_Arrays.ipynb\" target=\"_parent\"><img src=\"https://colab.research.google.com/assets/colab-badge.svg\" alt=\"Open In Colab\"/></a>"
      ]
    },
    {
      "cell_type": "code",
      "metadata": {
        "colab": {
          "base_uri": "https://localhost:8080/"
        },
        "id": "vasltUf_HXly",
        "outputId": "0d4e1050-4de6-4764-e3be-36e6dec2791a"
      },
      "source": [
        "input()\r\n",
        "\r\n",
        "arr = str(input()).split(\" \")\r\n",
        "arr.reverse()\r\n",
        "\r\n",
        "for num in arr:\r\n",
        "    print(num + \" \", end=\"\")"
      ],
      "execution_count": 1,
      "outputs": [
        {
          "output_type": "stream",
          "text": [
            "4\n",
            "1 2 3 4\n",
            "4 3 2 1 "
          ],
          "name": "stdout"
        }
      ]
    }
  ]
}