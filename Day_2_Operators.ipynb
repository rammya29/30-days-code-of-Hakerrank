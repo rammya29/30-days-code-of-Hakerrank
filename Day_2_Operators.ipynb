{
  "nbformat": 4,
  "nbformat_minor": 0,
  "metadata": {
    "colab": {
      "name": "Day-2:Operators.ipynb",
      "provenance": [],
      "authorship_tag": "ABX9TyOxZtAnl0iawFgD0e47KZqV",
      "include_colab_link": true
    },
    "kernelspec": {
      "name": "python3",
      "display_name": "Python 3"
    }
  },
  "cells": [
    {
      "cell_type": "markdown",
      "metadata": {
        "id": "view-in-github",
        "colab_type": "text"
      },
      "source": [
        "<a href=\"https://colab.research.google.com/github/rammya29/30-days-code-of-Hakerrank/blob/main/Day_2_Operators.ipynb\" target=\"_parent\"><img src=\"https://colab.research.google.com/assets/colab-badge.svg\" alt=\"Open In Colab\"/></a>"
      ]
    },
    {
      "cell_type": "code",
      "metadata": {
        "id": "pvekkexuDtkH"
      },
      "source": [
        "#!/bin/python3\r\n",
        "\r\n",
        "import math\r\n",
        "import os\r\n",
        "import random\r\n",
        "import re\r\n",
        "import sys\r\n",
        "\r\n",
        "# Complete the solve function below.\r\n",
        "def solve(meal_cost, tip_percent, tax_percent):\r\n",
        "    tip = meal_cost * tip_percent / 100\r\n",
        "    tax = meal_cost * tax_percent / 100\r\n",
        "    total = meal_cost + tip + tax\r\n",
        "    print(str(round(total)))\r\n",
        "    \r\n",
        "if __name__ == '__main__':\r\n",
        "    meal_cost = float(input())\r\n",
        "\r\n",
        "    tip_percent = int(input())\r\n",
        "\r\n",
        "    tax_percent = int(input())\r\n",
        "\r\n",
        "    solve(meal_cost, tip_percent, tax_percent)\r\n"
      ],
      "execution_count": null,
      "outputs": []
    }
  ]
}