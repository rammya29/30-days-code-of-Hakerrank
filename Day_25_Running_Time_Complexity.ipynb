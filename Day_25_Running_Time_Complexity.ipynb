{
  "nbformat": 4,
  "nbformat_minor": 0,
  "metadata": {
    "colab": {
      "name": "Day-25:Running Time Complexity.ipynb",
      "provenance": [],
      "authorship_tag": "ABX9TyPIuWXZQfT3gxspPWirpkSX",
      "include_colab_link": true
    },
    "kernelspec": {
      "name": "python3",
      "display_name": "Python 3"
    }
  },
  "cells": [
    {
      "cell_type": "markdown",
      "metadata": {
        "id": "view-in-github",
        "colab_type": "text"
      },
      "source": [
        "<a href=\"https://colab.research.google.com/github/rammya29/30-days-code-of-Hakerrank/blob/main/Day_25_Running_Time_Complexity.ipynb\" target=\"_parent\"><img src=\"https://colab.research.google.com/assets/colab-badge.svg\" alt=\"Open In Colab\"/></a>"
      ]
    },
    {
      "cell_type": "code",
      "metadata": {
        "id": "haFQrFKq-I41"
      },
      "source": [
        "# Enter your code here. Read input from STDIN. Print output to STDOUT\r\n",
        "from math import sqrt\r\n",
        "\r\n",
        "I = int(input())\r\n",
        "\r\n",
        "\r\n",
        "def isPrime(n):\r\n",
        "    for i in range(2, int(sqrt(n) + 1)):\r\n",
        "        if n % i is 0:\r\n",
        "            return False\r\n",
        "    return True\r\n",
        "\r\n",
        "\r\n",
        "for _ in range(I):\r\n",
        "    n = int(input())\r\n",
        "    \r\n",
        "    if n >= 2 and isPrime(n):\r\n",
        "        print(\"Prime\")\r\n",
        "    else:\r\n",
        "        print(\"Not prime\")"
      ],
      "execution_count": null,
      "outputs": []
    }
  ]
}