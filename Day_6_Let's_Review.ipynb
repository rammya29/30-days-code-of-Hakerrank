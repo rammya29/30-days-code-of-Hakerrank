{
  "nbformat": 4,
  "nbformat_minor": 0,
  "metadata": {
    "colab": {
      "name": "Day 6: Let's Review.ipynb",
      "provenance": [],
      "authorship_tag": "ABX9TyPmO6wo4JgfLhLDXlUwlhUI",
      "include_colab_link": true
    },
    "kernelspec": {
      "name": "python3",
      "display_name": "Python 3"
    }
  },
  "cells": [
    {
      "cell_type": "markdown",
      "metadata": {
        "id": "view-in-github",
        "colab_type": "text"
      },
      "source": [
        "<a href=\"https://colab.research.google.com/github/rammya29/30-days-code-of-Hakerrank/blob/main/Day_6_Let's_Review.ipynb\" target=\"_parent\"><img src=\"https://colab.research.google.com/assets/colab-badge.svg\" alt=\"Open In Colab\"/></a>"
      ]
    },
    {
      "cell_type": "code",
      "metadata": {
        "colab": {
          "base_uri": "https://localhost:8080/"
        },
        "id": "7akyONfsEDfK",
        "outputId": "682bb544-a982-43f5-a0e8-3e9f3f6b683a"
      },
      "source": [
        "N = int(input())\r\n",
        "\r\n",
        "for i in range(0, N):\r\n",
        "\r\n",
        "    string = input()\r\n",
        "\r\n",
        "    for j in range(0, len(string)):\r\n",
        "        if j % 2 == 0:\r\n",
        "            print(string[j], end='')\r\n",
        "\r\n",
        "    print(\" \", end='')\r\n",
        "\r\n",
        "    for j in range(0, len(string)):\r\n",
        "        if j % 2 != 0:\r\n",
        "            print(string[j], end='')\r\n",
        "\r\n",
        "    print(\"\")"
      ],
      "execution_count": 2,
      "outputs": [
        {
          "output_type": "stream",
          "text": [
            "2\n",
            "rammya\n",
            "rmy ama\n",
            "anitha\n",
            "aih nta\n"
          ],
          "name": "stdout"
        }
      ]
    }
  ]
}