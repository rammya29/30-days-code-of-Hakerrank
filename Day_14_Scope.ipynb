{
  "nbformat": 4,
  "nbformat_minor": 0,
  "metadata": {
    "colab": {
      "name": "Day-14:Scope.ipynb",
      "provenance": [],
      "authorship_tag": "ABX9TyNAtzDPnHZ16/JFjDPK9/IN",
      "include_colab_link": true
    },
    "kernelspec": {
      "name": "python3",
      "display_name": "Python 3"
    }
  },
  "cells": [
    {
      "cell_type": "markdown",
      "metadata": {
        "id": "view-in-github",
        "colab_type": "text"
      },
      "source": [
        "<a href=\"https://colab.research.google.com/github/rammya29/30-days-code-of-Hakerrank/blob/main/Day_14_Scope.ipynb\" target=\"_parent\"><img src=\"https://colab.research.google.com/assets/colab-badge.svg\" alt=\"Open In Colab\"/></a>"
      ]
    },
    {
      "cell_type": "code",
      "metadata": {
        "id": "kLsE7LsUQ-w4"
      },
      "source": [
        "class Difference:\r\n",
        "    def __init__(self, a):\r\n",
        "        self.__elements = a\r\n",
        "\r\n",
        "    def computeDifference(self):\r\n",
        "        maximum = 0\r\n",
        "\r\n",
        "        for i in range(len(self.__elements)):\r\n",
        "            for j in range(len(self.__elements)):\r\n",
        "                absolute = abs(self.__elements[i] - self.__elements[j])\r\n",
        "                if absolute > maximum:\r\n",
        "                    maximum = absolute\r\n",
        "\r\n",
        "        self.maximumDifference = maximum\r\n",
        "\r\n",
        "\r\n",
        "_ = input()\r\n",
        "a = [int(e) for e in input().split(' ')]\r\n",
        "\r\n",
        "d = Difference(a)\r\n",
        "d.computeDifference()\r\n",
        "\r\n",
        "print(d.maximumDifference)\r\n"
      ],
      "execution_count": null,
      "outputs": []
    }
  ]
}