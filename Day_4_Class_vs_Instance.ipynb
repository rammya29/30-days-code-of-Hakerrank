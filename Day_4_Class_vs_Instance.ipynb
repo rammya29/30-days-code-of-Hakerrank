{
  "nbformat": 4,
  "nbformat_minor": 0,
  "metadata": {
    "colab": {
      "name": "Day 4: Class vs. Instance.ipynb",
      "provenance": [],
      "authorship_tag": "ABX9TyPVURjD3LSEIvtB7sH1mwLD",
      "include_colab_link": true
    },
    "kernelspec": {
      "name": "python3",
      "display_name": "Python 3"
    }
  },
  "cells": [
    {
      "cell_type": "markdown",
      "metadata": {
        "id": "view-in-github",
        "colab_type": "text"
      },
      "source": [
        "<a href=\"https://colab.research.google.com/github/rammya29/30-days-code-of-Hakerrank/blob/main/Day_4_Class_vs_Instance.ipynb\" target=\"_parent\"><img src=\"https://colab.research.google.com/assets/colab-badge.svg\" alt=\"Open In Colab\"/></a>"
      ]
    },
    {
      "cell_type": "code",
      "metadata": {
        "colab": {
          "base_uri": "https://localhost:8080/"
        },
        "id": "ZrVjK8O54BPd",
        "outputId": "b183d6c2-12ea-4f19-d2a3-950e53d2c9c5"
      },
      "source": [
        "class Person:\r\n",
        "    def __init__(self, initialAge):\r\n",
        "        if initialAge > 0:\r\n",
        "            self.age = initialAge\r\n",
        "        else:\r\n",
        "            print(\"Age is not valid, setting age to 0.\")\r\n",
        "            self.age = 0\r\n",
        "\r\n",
        "    def amIOld(self):\r\n",
        "        if self.age < 13:\r\n",
        "            print(\"You are young.\")\r\n",
        "        elif self.age < 18:\r\n",
        "            print(\"You are a teenager.\")\r\n",
        "        else:\r\n",
        "            print(\"You are old.\")\r\n",
        "\r\n",
        "    def yearPasses(self):\r\n",
        "        self.age += 1\r\n",
        "\r\n",
        "\r\n",
        "t = int(input())\r\n",
        "for i in range(0, t):\r\n",
        "    age = int(input())\r\n",
        "    p = Person(age)\r\n",
        "    p.amIOld()\r\n",
        "    for j in range(0, 3):\r\n",
        "        p.yearPasses()\r\n",
        "    p.amIOld()\r\n",
        "    print(\"\")"
      ],
      "execution_count": 1,
      "outputs": [
        {
          "output_type": "stream",
          "text": [
            "4\n",
            "-5\n",
            "Age is not valid, setting age to 0.\n",
            "You are young.\n",
            "You are young.\n",
            "\n",
            "6\n",
            "You are young.\n",
            "You are young.\n",
            "\n",
            "10\n",
            "You are young.\n",
            "You are a teenager.\n",
            "\n",
            "23\n",
            "You are old.\n",
            "You are old.\n",
            "\n"
          ],
          "name": "stdout"
        }
      ]
    }
  ]
}