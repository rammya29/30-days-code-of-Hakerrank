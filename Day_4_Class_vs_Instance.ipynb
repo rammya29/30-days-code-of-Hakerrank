{
  "nbformat": 4,
  "nbformat_minor": 0,
  "metadata": {
    "colab": {
      "name": "Day-4:Class vs. Instance.ipynb",
      "provenance": [],
      "authorship_tag": "ABX9TyP1WJCzNBoNAh99FVBFkwHm",
      "include_colab_link": true
    },
    "kernelspec": {
      "name": "python3",
      "display_name": "Python 3"
    }
  },
  "cells": [
    {
      "cell_type": "markdown",
      "metadata": {
        "id": "view-in-github",
        "colab_type": "text"
      },
      "source": [
        "<a href=\"https://colab.research.google.com/github/rammya29/30-days-code-of-Hakerrank/blob/main/Day_4_Class_vs_Instance.ipynb\" target=\"_parent\"><img src=\"https://colab.research.google.com/assets/colab-badge.svg\" alt=\"Open In Colab\"/></a>"
      ]
    },
    {
      "cell_type": "code",
      "metadata": {
        "id": "Vz4A4MDFFZpY"
      },
      "source": [
        "class Person:\r\n",
        "    def __init__(self,initialAge):\r\n",
        "        # Add some more code to run some checks on initialAge\r\n",
        "        if initialAge > 0:\r\n",
        "            self.age = initialAge\r\n",
        "        else:\r\n",
        "            print(\"Age is not valid, setting age to 0.\")\r\n",
        "            self.age = 0\r\n",
        "    def amIOld(self):\r\n",
        "        # Do some computations in here and print out the correct statement to the console\r\n",
        "        if self.age < 13:\r\n",
        "            print(\"You are young.\")\r\n",
        "        elif self.age < 18:\r\n",
        "            print(\"You are a teenager.\")\r\n",
        "        else:\r\n",
        "            print(\"You are old.\")\r\n",
        "            \r\n",
        "    def yearPasses(self):\r\n",
        "        # Increment the age of the person in here\r\n",
        "        self.age += 1\r\n",
        "\r\n",
        "t = int(input())\r\n",
        "for i in range(0, t):\r\n",
        "    age = int(input())         \r\n",
        "    p = Person(age)  \r\n",
        "    p.amIOld()\r\n",
        "    for j in range(0, 3):\r\n",
        "        p.yearPasses()       \r\n",
        "    p.amIOld()\r\n",
        "    print(\"\")"
      ],
      "execution_count": null,
      "outputs": []
    }
  ]
}