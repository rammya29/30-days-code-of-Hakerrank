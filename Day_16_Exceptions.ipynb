{
  "nbformat": 4,
  "nbformat_minor": 0,
  "metadata": {
    "colab": {
      "name": "Day-16:Exceptions.ipynb",
      "provenance": [],
      "authorship_tag": "ABX9TyOVCz/Z3ZJZ2mgL2N7usFtZ",
      "include_colab_link": true
    },
    "kernelspec": {
      "name": "python3",
      "display_name": "Python 3"
    }
  },
  "cells": [
    {
      "cell_type": "markdown",
      "metadata": {
        "id": "view-in-github",
        "colab_type": "text"
      },
      "source": [
        "<a href=\"https://colab.research.google.com/github/rammya29/30-days-code-of-Hakerrank/blob/main/Day_16_Exceptions.ipynb\" target=\"_parent\"><img src=\"https://colab.research.google.com/assets/colab-badge.svg\" alt=\"Open In Colab\"/></a>"
      ]
    },
    {
      "cell_type": "code",
      "metadata": {
        "id": "5fQlFJ7wSuio"
      },
      "source": [
        "try:\r\n",
        "    print(int(input().strip()))\r\n",
        "except ValueError:\r\n",
        "    print(\"Bad String\")\r\n"
      ],
      "execution_count": null,
      "outputs": []
    }
  ]
}