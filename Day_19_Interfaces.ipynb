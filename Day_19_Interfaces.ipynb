{
  "nbformat": 4,
  "nbformat_minor": 0,
  "metadata": {
    "colab": {
      "name": "Day-19:Interfaces.ipynb",
      "provenance": [],
      "authorship_tag": "ABX9TyNx9s+N0upgPhGqfEXfM249",
      "include_colab_link": true
    },
    "kernelspec": {
      "name": "python3",
      "display_name": "Python 3"
    }
  },
  "cells": [
    {
      "cell_type": "markdown",
      "metadata": {
        "id": "view-in-github",
        "colab_type": "text"
      },
      "source": [
        "<a href=\"https://colab.research.google.com/github/rammya29/30-days-code-of-Hakerrank/blob/main/Day_19_Interfaces.ipynb\" target=\"_parent\"><img src=\"https://colab.research.google.com/assets/colab-badge.svg\" alt=\"Open In Colab\"/></a>"
      ]
    },
    {
      "cell_type": "code",
      "metadata": {
        "id": "oE1Wfd5zh61n"
      },
      "source": [
        "class AdvancedArithmetic(object):\r\n",
        "    def divisorSum(n):\r\n",
        "        raise NotImplementedError\r\n",
        "\r\n",
        "class Calculator(AdvancedArithmetic):\r\n",
        "    def divisorSum(self, n):\r\n",
        "        s = 0\r\n",
        "        for i in range(1,n+1):\r\n",
        "            if (n%i == 0):\r\n",
        "                s+=i\r\n",
        "        return s\r\n",
        "\r\n",
        "\r\n",
        "n = int(input())\r\n",
        "my_calculator = Calculator()\r\n",
        "s = my_calculator.divisorSum(n)\r\n",
        "print(\"I implemented: \" + type(my_calculator).__bases__[0].__name__)\r\n",
        "print(s)"
      ],
      "execution_count": null,
      "outputs": []
    }
  ]
}