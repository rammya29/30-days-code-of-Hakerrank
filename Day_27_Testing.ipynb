{
  "nbformat": 4,
  "nbformat_minor": 0,
  "metadata": {
    "colab": {
      "name": "Day-27:Testing.ipynb",
      "provenance": [],
      "authorship_tag": "ABX9TyMvYGsgaTrCQV8DzkuY6W4p",
      "include_colab_link": true
    },
    "kernelspec": {
      "name": "python3",
      "display_name": "Python 3"
    }
  },
  "cells": [
    {
      "cell_type": "markdown",
      "metadata": {
        "id": "view-in-github",
        "colab_type": "text"
      },
      "source": [
        "<a href=\"https://colab.research.google.com/github/rammya29/30-days-code-of-Hakerrank/blob/main/Day_27_Testing.ipynb\" target=\"_parent\"><img src=\"https://colab.research.google.com/assets/colab-badge.svg\" alt=\"Open In Colab\"/></a>"
      ]
    },
    {
      "cell_type": "code",
      "metadata": {
        "id": "wFyyCCZoAsrU"
      },
      "source": [
        "def minimum_index(seq):\r\n",
        "    if len(seq) == 0:\r\n",
        "        raise ValueError(\"Cannot get the minimum value index from an empty sequence\")\r\n",
        "    min_idx = 0\r\n",
        "    for i in range(1, len(seq)):\r\n",
        "        if seq[i] < seq[min_idx]:\r\n",
        "            min_idx = i\r\n",
        "    return min_idx\r\n",
        "class TestDataEmptyArray(object):\r\n",
        "    \r\n",
        "    @staticmethod\r\n",
        "    def get_array():\r\n",
        "        # complete this function\r\n",
        "        return list()\r\n",
        "\r\n",
        "class TestDataUniqueValues(object):\r\n",
        "\r\n",
        "    @staticmethod\r\n",
        "    def get_array():\r\n",
        "        # complete this function\r\n",
        "        return [5, 2, 8, 3, 1, -6, 9]\r\n",
        "\r\n",
        "    @staticmethod\r\n",
        "    def get_expected_result():\r\n",
        "        # complete this function\r\n",
        "        return 5\r\n",
        "\r\n",
        "class TestDataExactlyTwoDifferentMinimums(object):\r\n",
        "\r\n",
        "    @staticmethod\r\n",
        "    def get_array():\r\n",
        "        # complete this function\r\n",
        "         return [5, 2, 8, 3, 1, -6, 9, -6, 10]\r\n",
        "\r\n",
        "    @staticmethod\r\n",
        "    def get_expected_result():\r\n",
        "        # complete this function\r\n",
        "        return 5\r\n",
        "\r\n",
        "\r\n",
        "def TestWithEmptyArray():\r\n",
        "    try:\r\n",
        "        seq = TestDataEmptyArray.get_array()\r\n",
        "        result = minimum_index(seq)\r\n",
        "    except ValueError as e:\r\n",
        "        pass\r\n",
        "    else:\r\n",
        "        assert False\r\n",
        "\r\n",
        "\r\n",
        "def TestWithUniqueValues():\r\n",
        "    seq = TestDataUniqueValues.get_array()\r\n",
        "    assert len(seq) >= 2\r\n",
        "\r\n",
        "    assert len(list(set(seq))) == len(seq)\r\n",
        "\r\n",
        "    expected_result = TestDataUniqueValues.get_expected_result()\r\n",
        "    result = minimum_index(seq)\r\n",
        "    assert result == expected_result\r\n",
        "\r\n",
        "\r\n",
        "def TestiWithExactyTwoDifferentMinimums():\r\n",
        "    seq = TestDataExactlyTwoDifferentMinimums.get_array()\r\n",
        "    assert len(seq) >= 2\r\n",
        "    tmp = sorted(seq)\r\n",
        "    assert tmp[0] == tmp[1] and (len(tmp) == 2 or tmp[1] < tmp[2])\r\n",
        "\r\n",
        "    expected_result = TestDataExactlyTwoDifferentMinimums.get_expected_result()\r\n",
        "    result = minimum_index(seq)\r\n",
        "    assert result == expected_result\r\n",
        "\r\n",
        "TestWithEmptyArray()\r\n",
        "TestWithUniqueValues()\r\n",
        "TestiWithExactyTwoDifferentMinimums()\r\n",
        "print(\"OK\")\r\n",
        "\r\n"
      ],
      "execution_count": null,
      "outputs": []
    }
  ]
}