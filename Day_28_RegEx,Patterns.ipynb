{
  "nbformat": 4,
  "nbformat_minor": 0,
  "metadata": {
    "colab": {
      "name": "Day-28:RegEx,Patterns.ipynb",
      "provenance": [],
      "authorship_tag": "ABX9TyPi+MDooOkPG+JaECvTHZL+",
      "include_colab_link": true
    },
    "kernelspec": {
      "name": "python3",
      "display_name": "Python 3"
    }
  },
  "cells": [
    {
      "cell_type": "markdown",
      "metadata": {
        "id": "view-in-github",
        "colab_type": "text"
      },
      "source": [
        "<a href=\"https://colab.research.google.com/github/rammya29/30-days-code-of-Hakerrank/blob/main/Day_28_RegEx%2CPatterns.ipynb\" target=\"_parent\"><img src=\"https://colab.research.google.com/assets/colab-badge.svg\" alt=\"Open In Colab\"/></a>"
      ]
    },
    {
      "cell_type": "code",
      "metadata": {
        "id": "P3lGBxDfBoYE"
      },
      "source": [
        "#!/bin/python3\r\n",
        "\r\n",
        "import math\r\n",
        "import os\r\n",
        "import random\r\n",
        "import re\r\n",
        "import sys\r\n",
        "\r\n",
        "\r\n",
        "\r\n",
        "if __name__ == '__main__':\r\n",
        "    N = int(input())\r\n",
        "    arr=[]\r\n",
        "    for N_itr in range(N):\r\n",
        "        firstNameEmailID = input().split()\r\n",
        "\r\n",
        "        firstName = firstNameEmailID[0]\r\n",
        "\r\n",
        "        emailID = firstNameEmailID[1]\r\n",
        "        if re.search(\".+@gmail\\.com$\", emailID):\r\n",
        "            arr.append(firstName)\r\n",
        "\r\n",
        "arr.sort()\r\n",
        "\r\n",
        "for name in arr:\r\n",
        "    print(name)"
      ],
      "execution_count": null,
      "outputs": []
    }
  ]
}