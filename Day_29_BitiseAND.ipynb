{
  "nbformat": 4,
  "nbformat_minor": 0,
  "metadata": {
    "colab": {
      "name": "Day-29:BitiseAND.ipynb",
      "provenance": [],
      "authorship_tag": "ABX9TyPuY9BWnJP782Jv82H41iRV",
      "include_colab_link": true
    },
    "kernelspec": {
      "name": "python3",
      "display_name": "Python 3"
    }
  },
  "cells": [
    {
      "cell_type": "markdown",
      "metadata": {
        "id": "view-in-github",
        "colab_type": "text"
      },
      "source": [
        "<a href=\"https://colab.research.google.com/github/rammya29/30-days-code-of-Hakerrank/blob/main/Day_29_BitiseAND.ipynb\" target=\"_parent\"><img src=\"https://colab.research.google.com/assets/colab-badge.svg\" alt=\"Open In Colab\"/></a>"
      ]
    },
    {
      "cell_type": "code",
      "metadata": {
        "id": "W2MFQ3BeC6pp"
      },
      "source": [
        "#!/bin/python3\r\n",
        "\r\n",
        "import math\r\n",
        "import os\r\n",
        "import random\r\n",
        "import re\r\n",
        "import sys\r\n",
        "\r\n",
        "\r\n",
        "\r\n",
        "if __name__ == '__main__':\r\n",
        "    t = int(input())\r\n",
        "\r\n",
        "    for t_itr in range(t):\r\n",
        "        nk = input().split()\r\n",
        "\r\n",
        "        n = int(nk[0])\r\n",
        "\r\n",
        "        k = int(nk[1])\r\n",
        "        print(k-1 if ((k-1) | k) <= n else k-2)"
      ],
      "execution_count": null,
      "outputs": []
    }
  ]
}