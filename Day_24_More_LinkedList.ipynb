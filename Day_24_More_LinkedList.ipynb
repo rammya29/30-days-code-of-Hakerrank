{
  "nbformat": 4,
  "nbformat_minor": 0,
  "metadata": {
    "colab": {
      "name": "Day-24:More LinkedList.ipynb",
      "provenance": [],
      "authorship_tag": "ABX9TyNv6iS+w3sITfMMvThgT6h9",
      "include_colab_link": true
    },
    "kernelspec": {
      "name": "python3",
      "display_name": "Python 3"
    }
  },
  "cells": [
    {
      "cell_type": "markdown",
      "metadata": {
        "id": "view-in-github",
        "colab_type": "text"
      },
      "source": [
        "<a href=\"https://colab.research.google.com/github/rammya29/30-days-code-of-Hakerrank/blob/main/Day_24_More_LinkedList.ipynb\" target=\"_parent\"><img src=\"https://colab.research.google.com/assets/colab-badge.svg\" alt=\"Open In Colab\"/></a>"
      ]
    },
    {
      "cell_type": "code",
      "metadata": {
        "id": "pWK_Xmv_9rwB"
      },
      "source": [
        "class Node:\r\n",
        "    def __init__(self,data):\r\n",
        "        self.data = data\r\n",
        "        self.next = None \r\n",
        "class Solution: \r\n",
        "    def insert(self,head,data):\r\n",
        "            p = Node(data)           \r\n",
        "            if head==None:\r\n",
        "                head=p\r\n",
        "            elif head.next==None:\r\n",
        "                head.next=p\r\n",
        "            else:\r\n",
        "                start=head\r\n",
        "                while(start.next!=None):\r\n",
        "                    start=start.next\r\n",
        "                start.next=p\r\n",
        "            return head  \r\n",
        "    def display(self,head):\r\n",
        "        current = head\r\n",
        "        while current:\r\n",
        "            print(current.data,end=' ')\r\n",
        "            current = current.next\r\n",
        "\r\n",
        "    def removeDuplicates(self,head):\r\n",
        "        #Write your code here\r\n",
        "        curr = head\r\n",
        "        while curr is not None and curr.next is not None:\r\n",
        "            while curr.next is not None and curr.data is curr.next.data:\r\n",
        "                curr.next = curr.next.next\r\n",
        "            curr = curr.next\r\n",
        "        return head\r\n",
        "\r\n",
        "\r\n",
        "mylist= Solution()\r\n",
        "T=int(input())\r\n",
        "head=None\r\n",
        "for i in range(T):\r\n",
        "    data=int(input())\r\n",
        "    head=mylist.insert(head,data)    \r\n",
        "head=mylist.removeDuplicates(head)\r\n",
        "mylist.display(head); "
      ],
      "execution_count": null,
      "outputs": []
    }
  ]
}