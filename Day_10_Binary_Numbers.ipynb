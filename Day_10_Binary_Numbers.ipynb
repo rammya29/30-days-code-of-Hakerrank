{
  "nbformat": 4,
  "nbformat_minor": 0,
  "metadata": {
    "colab": {
      "name": "Day-10:Binary-Numbers.ipynb",
      "provenance": [],
      "authorship_tag": "ABX9TyPgRMYT0GcARRHoH/lCD1Dh",
      "include_colab_link": true
    },
    "kernelspec": {
      "name": "python3",
      "display_name": "Python 3"
    }
  },
  "cells": [
    {
      "cell_type": "markdown",
      "metadata": {
        "id": "view-in-github",
        "colab_type": "text"
      },
      "source": [
        "<a href=\"https://colab.research.google.com/github/rammya29/30-days-code-of-Hakerrank/blob/main/Day_10_Binary_Numbers.ipynb\" target=\"_parent\"><img src=\"https://colab.research.google.com/assets/colab-badge.svg\" alt=\"Open In Colab\"/></a>"
      ]
    },
    {
      "cell_type": "code",
      "metadata": {
        "colab": {
          "base_uri": "https://localhost:8080/"
        },
        "id": "Xz_BF-VsKYva",
        "outputId": "d7174842-984f-4934-b7cf-01f8bf61354d"
      },
      "source": [
        "n = int(input())\r\n",
        "res=0\r\n",
        "maxi=0\r\n",
        "    \r\n",
        "while n>0:\r\n",
        "  if n%2==1:\r\n",
        "    res+=1\r\n",
        "    if res>maxi:\r\n",
        "      maxi=res\r\n",
        "  else:\r\n",
        "    res=0\r\n",
        "  n=n//2\r\n",
        "print(maxi)   "
      ],
      "execution_count": 5,
      "outputs": [
        {
          "output_type": "stream",
          "text": [
            "6\n",
            "2\n"
          ],
          "name": "stdout"
        }
      ]
    }
  ]
}