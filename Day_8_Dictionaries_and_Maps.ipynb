{
  "nbformat": 4,
  "nbformat_minor": 0,
  "metadata": {
    "colab": {
      "name": "Day 8: Dictionaries and Maps.ipynb",
      "provenance": [],
      "authorship_tag": "ABX9TyOhWxYUKizrsB/7aEz1VuvP",
      "include_colab_link": true
    },
    "kernelspec": {
      "name": "python3",
      "display_name": "Python 3"
    }
  },
  "cells": [
    {
      "cell_type": "markdown",
      "metadata": {
        "id": "view-in-github",
        "colab_type": "text"
      },
      "source": [
        "<a href=\"https://colab.research.google.com/github/rammya29/30-days-code-of-Hakerrank/blob/main/Day_8_Dictionaries_and_Maps.ipynb\" target=\"_parent\"><img src=\"https://colab.research.google.com/assets/colab-badge.svg\" alt=\"Open In Colab\"/></a>"
      ]
    },
    {
      "cell_type": "code",
      "metadata": {
        "id": "RvUkf7MfJbUM"
      },
      "source": [
        "phonebook = {}\r\n",
        "num = int(input())\r\n",
        "for i in range(0, num):\r\n",
        "    entry = str(input()).split(\" \")\r\n",
        "    name = entry[0]\r\n",
        "    number = int(entry[1])\r\n",
        "    phonebook[name] = number\r\n",
        "\r\n",
        "for i in range(0, num):\r\n",
        "    name = input()\r\n",
        "    if name in phonebook:\r\n",
        "        print(name + \"=\" + str(phonebook[name]))\r\n",
        "    else:\r\n",
        "        print(\"Not found\")"
      ],
      "execution_count": null,
      "outputs": []
    }
  ]
}