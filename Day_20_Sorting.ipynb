{
  "nbformat": 4,
  "nbformat_minor": 0,
  "metadata": {
    "colab": {
      "name": "Day-20:Sorting.ipynb",
      "provenance": [],
      "authorship_tag": "ABX9TyMzyUUoWQz3fKRMs10LaDiv",
      "include_colab_link": true
    },
    "kernelspec": {
      "name": "python3",
      "display_name": "Python 3"
    }
  },
  "cells": [
    {
      "cell_type": "markdown",
      "metadata": {
        "id": "view-in-github",
        "colab_type": "text"
      },
      "source": [
        "<a href=\"https://colab.research.google.com/github/rammya29/30-days-code-of-Hakerrank/blob/main/Day_20_Sorting.ipynb\" target=\"_parent\"><img src=\"https://colab.research.google.com/assets/colab-badge.svg\" alt=\"Open In Colab\"/></a>"
      ]
    },
    {
      "cell_type": "code",
      "metadata": {
        "id": "Ja__dqKIirXm"
      },
      "source": [
        "#!/bin/python3\r\n",
        "\r\n",
        "import sys\r\n",
        "\r\n",
        "n = int(input().strip())\r\n",
        "a = list(map(int, input().strip().split(' ')))\r\n",
        "# Write Your Code Here\r\n",
        "num_swaps = 0\r\n",
        "\r\n",
        "for i in range(n):\r\n",
        "    for j in range(n - 1):\r\n",
        "        if a[j] > a[j + 1]:\r\n",
        "            tmp = a[j]\r\n",
        "            a[j] = a[j + 1]\r\n",
        "            a[j + 1] = tmp\r\n",
        "            num_swaps += 1\r\n",
        "\r\n",
        "    if num_swaps == 0:\r\n",
        "        break\r\n",
        "\r\n",
        "print(\"Array is sorted in \" + str(num_swaps) + \" swaps.\")\r\n",
        "print(\"First Element: \" + str(a[0]))\r\n",
        "print(\"Last Element: \" + str(a[len(a) - 1]))"
      ],
      "execution_count": null,
      "outputs": []
    }
  ]
}