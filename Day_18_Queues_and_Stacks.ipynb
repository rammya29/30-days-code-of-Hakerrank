{
  "nbformat": 4,
  "nbformat_minor": 0,
  "metadata": {
    "colab": {
      "name": "Day-18:Queues-and-Stacks.ipynb",
      "provenance": [],
      "authorship_tag": "ABX9TyMUZQCPAd7Vel4eX4kSdrT6",
      "include_colab_link": true
    },
    "kernelspec": {
      "name": "python3",
      "display_name": "Python 3"
    }
  },
  "cells": [
    {
      "cell_type": "markdown",
      "metadata": {
        "id": "view-in-github",
        "colab_type": "text"
      },
      "source": [
        "<a href=\"https://colab.research.google.com/github/rammya29/30-days-code-of-Hakerrank/blob/main/Day_18_Queues_and_Stacks.ipynb\" target=\"_parent\"><img src=\"https://colab.research.google.com/assets/colab-badge.svg\" alt=\"Open In Colab\"/></a>"
      ]
    },
    {
      "cell_type": "code",
      "metadata": {
        "id": "v597FessgByn"
      },
      "source": [
        "class Solution:\r\n",
        "    def __init__(self):\r\n",
        "        self.stack = []\r\n",
        "        self.queue = []\r\n",
        "\r\n",
        "    def popCharacter(self):\r\n",
        "        return self.stack.pop()\r\n",
        "\r\n",
        "    def pushCharacter(self, char):\r\n",
        "        self.stack.append(char)\r\n",
        "\r\n",
        "    def dequeueCharacter(self):\r\n",
        "        char = self.queue[0]\r\n",
        "        self.queue = self.queue[1:]\r\n",
        "        return char\r\n",
        "\r\n",
        "    def enqueueCharacter(self, char):\r\n",
        "        self.queue.append(char)\r\n",
        "\r\n",
        "\r\n",
        "# read the string s\r\n",
        "s = input()\r\n",
        "# Create the Solution class object\r\n",
        "obj = Solution()\r\n",
        "\r\n",
        "l = len(s)\r\n",
        "# push/enqueue all the characters of string s to stack\r\n",
        "for i in range(l):\r\n",
        "    obj.pushCharacter(s[i])\r\n",
        "    obj.enqueueCharacter(s[i])\r\n",
        "\r\n",
        "isPalindrome = True\r\n",
        "'''\r\n",
        "pop the top character from stack\r\n",
        "dequeue the first character from queue\r\n",
        "compare both the characters\r\n",
        "'''\r\n",
        "for i in range(l // 2):\r\n",
        "    if obj.popCharacter() != obj.dequeueCharacter():\r\n",
        "        isPalindrome = False\r\n",
        "        break\r\n",
        "# finally print whether string s is palindrome or not.\r\n",
        "if isPalindrome:\r\n",
        "    print(\"The word, \" + s + \", is a palindrome.\")\r\n",
        "else:\r\n",
        "    print(\"The word, \" + s + \", is not a palindrome.\")"
      ],
      "execution_count": null,
      "outputs": []
    }
  ]
}