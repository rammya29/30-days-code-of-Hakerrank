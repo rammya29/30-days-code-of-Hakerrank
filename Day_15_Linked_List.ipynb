{
  "nbformat": 4,
  "nbformat_minor": 0,
  "metadata": {
    "colab": {
      "name": "Day-15:Linked-List.ipynb",
      "provenance": [],
      "authorship_tag": "ABX9TyMPgljRWQhTv29Ta6GZH4Av",
      "include_colab_link": true
    },
    "kernelspec": {
      "name": "python3",
      "display_name": "Python 3"
    }
  },
  "cells": [
    {
      "cell_type": "markdown",
      "metadata": {
        "id": "view-in-github",
        "colab_type": "text"
      },
      "source": [
        "<a href=\"https://colab.research.google.com/github/rammya29/30-days-code-of-Hakerrank/blob/main/Day_15_Linked_List.ipynb\" target=\"_parent\"><img src=\"https://colab.research.google.com/assets/colab-badge.svg\" alt=\"Open In Colab\"/></a>"
      ]
    },
    {
      "cell_type": "code",
      "metadata": {
        "id": "1dCnGDg0R19A"
      },
      "source": [
        "class Node:\r\n",
        "    def __init__(self, data):\r\n",
        "        self.data = data\r\n",
        "        self.next = None\r\n",
        "\r\n",
        "\r\n",
        "class Solution:\r\n",
        "    def display(self, head):\r\n",
        "        current = head\r\n",
        "        while current:\r\n",
        "            print(current.data, end=' ')\r\n",
        "            current = current.next\r\n",
        "\r\n",
        "    def insert(self, head, data):\r\n",
        "        if head is None:\r\n",
        "            head = Node(data)\r\n",
        "        else:\r\n",
        "            curr = head\r\n",
        "            while curr.next:\r\n",
        "                curr = curr.next\r\n",
        "            curr.next = Node(data)\r\n",
        "        return head\r\n",
        "\r\n",
        "\r\n",
        "mylist = Solution()\r\n",
        "T = int(input())\r\n",
        "head = None\r\n",
        "for i in range(T):\r\n",
        "    data = int(input())\r\n",
        "    head = mylist.insert(head, data)\r\n",
        "mylist.display(head)"
      ],
      "execution_count": null,
      "outputs": []
    }
  ]
}