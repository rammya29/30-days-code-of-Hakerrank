{
  "nbformat": 4,
  "nbformat_minor": 0,
  "metadata": {
    "colab": {
      "name": "Day-12:Inheritance.ipynb",
      "provenance": [],
      "authorship_tag": "ABX9TyOoSSR7TY1V4+myqIipGKY8",
      "include_colab_link": true
    },
    "kernelspec": {
      "name": "python3",
      "display_name": "Python 3"
    }
  },
  "cells": [
    {
      "cell_type": "markdown",
      "metadata": {
        "id": "view-in-github",
        "colab_type": "text"
      },
      "source": [
        "<a href=\"https://colab.research.google.com/github/rammya29/30-days-code-of-Hakerrank/blob/main/Day_12_Inheritance.ipynb\" target=\"_parent\"><img src=\"https://colab.research.google.com/assets/colab-badge.svg\" alt=\"Open In Colab\"/></a>"
      ]
    },
    {
      "cell_type": "code",
      "metadata": {
        "id": "O_ccpFQjPKd_"
      },
      "source": [
        "class Person:\r\n",
        "    def __init__(self, firstName, lastName, idNumber):\r\n",
        "        self.firstName = firstName\r\n",
        "        self.lastName = lastName\r\n",
        "        self.idNumber = idNumber\r\n",
        "\r\n",
        "    def printPerson(self):\r\n",
        "        print(\"Name:\", self.lastName + \",\", self.firstName)\r\n",
        "        print(\"ID:\", self.idNumber)\r\n",
        "\r\n",
        "\r\n",
        "class Student(Person):\r\n",
        "    def __init__(self, firstName, lastName, idNumber, testScores):\r\n",
        "        super().__init__(firstName, lastName, idNumber)\r\n",
        "        self.testScores = testScores\r\n",
        "\r\n",
        "    def calculate(self):\r\n",
        "        total = 0\r\n",
        "\r\n",
        "        for testScore in self.testScores:\r\n",
        "            total += testScore\r\n",
        "\r\n",
        "        avg = total / len(self.testScores)\r\n",
        "\r\n",
        "        if 90 <= avg <= 100:\r\n",
        "            return 'O'\r\n",
        "        if 80 <= avg < 90:\r\n",
        "            return 'E'\r\n",
        "        if 70 <= avg < 80:\r\n",
        "            return 'A'\r\n",
        "        if 55 <= avg < 70:\r\n",
        "            return 'P'\r\n",
        "        if 40 <= avg < 55:\r\n",
        "            return 'D'\r\n",
        "        return 'T'\r\n",
        "\r\n",
        "\r\n",
        "line = input().split()\r\n",
        "firstName = line[0]\r\n",
        "lastName = line[1]\r\n",
        "idNum = line[2]\r\n",
        "numScores = int(input())\r\n",
        "scores = list(map(int, input().split()))\r\n",
        "s = Student(firstName, lastName, idNum, scores)\r\n",
        "s.printPerson()\r\n",
        "print(\"Grade:\", s.calculate())\r\n",
        "\r\n"
      ],
      "execution_count": null,
      "outputs": []
    }
  ]
}