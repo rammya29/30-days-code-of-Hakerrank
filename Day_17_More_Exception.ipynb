{
  "nbformat": 4,
  "nbformat_minor": 0,
  "metadata": {
    "colab": {
      "name": "Day-17:More-Exception.ipynb",
      "provenance": [],
      "authorship_tag": "ABX9TyNssmsmVEaDjI0UXLKl5uG7",
      "include_colab_link": true
    },
    "kernelspec": {
      "name": "python3",
      "display_name": "Python 3"
    }
  },
  "cells": [
    {
      "cell_type": "markdown",
      "metadata": {
        "id": "view-in-github",
        "colab_type": "text"
      },
      "source": [
        "<a href=\"https://colab.research.google.com/github/rammya29/30-days-code-of-Hakerrank/blob/main/Day_17_More_Exception.ipynb\" target=\"_parent\"><img src=\"https://colab.research.google.com/assets/colab-badge.svg\" alt=\"Open In Colab\"/></a>"
      ]
    },
    {
      "cell_type": "code",
      "metadata": {
        "id": "EJNvvCSjTNp8"
      },
      "source": [
        "class Calculator:\r\n",
        "    def power(self, n, p):\r\n",
        "        if n < 0 or p < 0:\r\n",
        "            raise Exception(\"n and p should be non-negative\")\r\n",
        "        return pow(n, p)"
      ],
      "execution_count": null,
      "outputs": []
    },
    {
      "cell_type": "code",
      "metadata": {
        "id": "AKNzRDiZTYgP"
      },
      "source": [
        "myCalculator = Calculator()\r\n",
        "T = int(input())\r\n",
        "for i in range(T):\r\n",
        "    n, p = map(int, input().split())\r\n",
        "    try:\r\n",
        "        ans = myCalculator.power(n, p)\r\n",
        "        print(ans)\r\n",
        "    except Exception as e:\r\n",
        "        print(e)"
      ],
      "execution_count": null,
      "outputs": []
    }
  ]
}