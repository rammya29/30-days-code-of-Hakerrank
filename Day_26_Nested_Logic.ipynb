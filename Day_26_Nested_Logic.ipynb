{
  "nbformat": 4,
  "nbformat_minor": 0,
  "metadata": {
    "colab": {
      "name": "Day-26:Nested Logic.ipynb",
      "provenance": [],
      "authorship_tag": "ABX9TyOlZE7XlqwmA/4qAI/DKcQS",
      "include_colab_link": true
    },
    "kernelspec": {
      "name": "python3",
      "display_name": "Python 3"
    }
  },
  "cells": [
    {
      "cell_type": "markdown",
      "metadata": {
        "id": "view-in-github",
        "colab_type": "text"
      },
      "source": [
        "<a href=\"https://colab.research.google.com/github/rammya29/30-days-code-of-Hakerrank/blob/main/Day_26_Nested_Logic.ipynb\" target=\"_parent\"><img src=\"https://colab.research.google.com/assets/colab-badge.svg\" alt=\"Open In Colab\"/></a>"
      ]
    },
    {
      "cell_type": "code",
      "metadata": {
        "id": "_9V6Mkxp_lr4"
      },
      "source": [
        "# Enter your code here. Read input from STDIN. Print output to STDOUT\r\n",
        "act = list(map(int, input().split()))\r\n",
        "d, m, y = act\r\n",
        "\r\n",
        "expected = list(map(int, input().split()))\r\n",
        "D, M, Y = expected\r\n",
        "\r\n",
        "fine = 0\r\n",
        "\r\n",
        "if y > Y:\r\n",
        "    fine = 10000\r\n",
        "elif y == Y:\r\n",
        "    if m > M:\r\n",
        "        fine = (m - M) * 500\r\n",
        "    elif m == M and d > D:\r\n",
        "        fine = (d - D) * 15\r\n",
        "\r\n",
        "print(fine)"
      ],
      "execution_count": null,
      "outputs": []
    }
  ]
}