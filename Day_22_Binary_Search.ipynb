{
  "nbformat": 4,
  "nbformat_minor": 0,
  "metadata": {
    "colab": {
      "name": "Day-22:Binary-Search.ipynb",
      "provenance": [],
      "authorship_tag": "ABX9TyPxG83Wl0SppoFH8wIzy0xA",
      "include_colab_link": true
    },
    "kernelspec": {
      "name": "python3",
      "display_name": "Python 3"
    }
  },
  "cells": [
    {
      "cell_type": "markdown",
      "metadata": {
        "id": "view-in-github",
        "colab_type": "text"
      },
      "source": [
        "<a href=\"https://colab.research.google.com/github/rammya29/30-days-code-of-Hakerrank/blob/main/Day_22_Binary_Search.ipynb\" target=\"_parent\"><img src=\"https://colab.research.google.com/assets/colab-badge.svg\" alt=\"Open In Colab\"/></a>"
      ]
    },
    {
      "cell_type": "code",
      "metadata": {
        "id": "4ZgHV2vBjbln"
      },
      "source": [
        "class Node:\r\n",
        "    def __init__(self,data):\r\n",
        "        self.right=self.left=None\r\n",
        "        self.data = data\r\n",
        "class Solution:\r\n",
        "    def insert(self,root,data):\r\n",
        "        if root==None:\r\n",
        "            return Node(data)\r\n",
        "        else:\r\n",
        "            if data<=root.data:\r\n",
        "                cur=self.insert(root.left,data)\r\n",
        "                root.left=cur\r\n",
        "            else:\r\n",
        "                cur=self.insert(root.right,data)\r\n",
        "                root.right=cur\r\n",
        "        return root\r\n",
        "\r\n",
        "    def getHeight(self,root):\r\n",
        "        #Write your code here\r\n",
        "                return -1 if root is None else 1 + max(self.getHeight(root.left), self.getHeight(root.right))\r\n",
        "\r\n",
        "\r\n",
        "T=int(input())\r\n",
        "myTree=Solution()\r\n",
        "root=None\r\n",
        "for i in range(T):\r\n",
        "    data=int(input())\r\n",
        "    root=myTree.insert(root,data)\r\n",
        "height=myTree.getHeight(root)\r\n",
        "print(height)       "
      ],
      "execution_count": null,
      "outputs": []
    }
  ]
}