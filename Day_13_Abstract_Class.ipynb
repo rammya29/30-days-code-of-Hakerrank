{
  "nbformat": 4,
  "nbformat_minor": 0,
  "metadata": {
    "colab": {
      "name": "Day-13:Abstract-Class.ipynb",
      "provenance": [],
      "authorship_tag": "ABX9TyOUamMQ9wtXZblmIrpOReuh",
      "include_colab_link": true
    },
    "kernelspec": {
      "name": "python3",
      "display_name": "Python 3"
    }
  },
  "cells": [
    {
      "cell_type": "markdown",
      "metadata": {
        "id": "view-in-github",
        "colab_type": "text"
      },
      "source": [
        "<a href=\"https://colab.research.google.com/github/rammya29/30-days-code-of-Hakerrank/blob/main/Day_13_Abstract_Class.ipynb\" target=\"_parent\"><img src=\"https://colab.research.google.com/assets/colab-badge.svg\" alt=\"Open In Colab\"/></a>"
      ]
    },
    {
      "cell_type": "code",
      "metadata": {
        "id": "o1kZXNhxQO24"
      },
      "source": [
        "from abc import ABCMeta, abstractmethod\r\n",
        "\r\n",
        "\r\n",
        "class Book(object, metaclass=ABCMeta):\r\n",
        "    def __init__(self, title, author):\r\n",
        "        self.title = title\r\n",
        "        self.author = author\r\n",
        "\r\n",
        "    @abstractmethod\r\n",
        "    def display(self): pass\r\n",
        "\r\n",
        "\r\n",
        "class MyBook(Book):\r\n",
        "    def __init__(self, title, author, price):\r\n",
        "        super().__init__(title, author)\r\n",
        "        self.price = price\r\n",
        "\r\n",
        "    def display(self):\r\n",
        "        print(\"Title: \" + self.title + \"\\nAuthor: \" + self.author + \"\\nPrice: \" + str(self.price))\r\n",
        "\r\n",
        "\r\n",
        "title = input()\r\n",
        "author = input()\r\n",
        "price = int(input())\r\n",
        "new_novel = MyBook(title, author, price)\r\n",
        "new_novel.display()"
      ],
      "execution_count": null,
      "outputs": []
    }
  ]
}